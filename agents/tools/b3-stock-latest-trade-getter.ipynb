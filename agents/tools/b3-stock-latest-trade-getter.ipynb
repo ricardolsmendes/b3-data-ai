{
 "cells": [
  {
   "cell_type": "markdown",
   "metadata": {
    "application/vnd.databricks.v1+cell": {
     "cellMetadata": {
      "byteLimit": 2048000,
      "rowLimit": 10000
     },
     "inputWidgets": {},
     "nuid": "15dc097f-7e60-47f7-b3aa-4613c5463b22",
     "showTitle": false,
     "tableResultSettingsMap": {},
     "title": ""
    }
   },
   "source": [
    "# B3 Stock Latest Trade getter function"
   ]
  },
  {
   "cell_type": "code",
   "execution_count": 0,
   "metadata": {
    "application/vnd.databricks.v1+cell": {
     "cellMetadata": {
      "byteLimit": 2048000,
      "rowLimit": 10000
     },
     "inputWidgets": {},
     "nuid": "e8437fa2-15ec-4856-b1ba-99c66b3a7024",
     "showTitle": true,
     "tableResultSettingsMap": {},
     "title": "Install the required packages"
    }
   },
   "outputs": [],
   "source": [
    "\n",
    "%sh\n",
    "pip install -q -U pip\n",
    "pip install -q -U -r requirements.txt"
   ]
  },
  {
   "cell_type": "code",
   "execution_count": 0,
   "metadata": {
    "application/vnd.databricks.v1+cell": {
     "cellMetadata": {
      "byteLimit": 2048000,
      "rowLimit": 10000
     },
     "inputWidgets": {},
     "nuid": "1406be01-ef18-480c-b4c8-d56306e1397b",
     "showTitle": true,
     "tableResultSettingsMap": {},
     "title": "Import the required modules"
    }
   },
   "outputs": [],
   "source": [
    "from databricks_langchain import uc_ai"
   ]
  },
  {
   "cell_type": "code",
   "execution_count": 0,
   "metadata": {
    "application/vnd.databricks.v1+cell": {
     "cellMetadata": {
      "byteLimit": 2048000,
      "rowLimit": 10000
     },
     "inputWidgets": {},
     "nuid": "c73c47b7-55ad-40ab-b114-23bd9dd14e8d",
     "showTitle": true,
     "tableResultSettingsMap": {},
     "title": "Define the constants"
    }
   },
   "outputs": [],
   "source": [
    "CATALOG = \"<REDACTED>\"\n",
    "SCHEMA = \"<REDACTED>\""
   ]
  },
  {
   "cell_type": "code",
   "execution_count": 0,
   "metadata": {
    "application/vnd.databricks.v1+cell": {
     "cellMetadata": {
      "byteLimit": 2048000,
      "rowLimit": 10000
     },
     "inputWidgets": {},
     "nuid": "2847ad11-8f27-4a8d-b817-26a7d364405f",
     "showTitle": true,
     "tableResultSettingsMap": {},
     "title": "Define the function"
    }
   },
   "outputs": [],
   "source": [
    "def get_latest_trade(ticker: str) -> dict[str, str]:\n",
    "    \"\"\"\n",
    "    Get the latest available trading record for a B3 stock.\n",
    "\n",
    "    Args:\n",
    "        ticker (str): The stock ticker symbol (without .SA suffix)\n",
    "\n",
    "    Returns:\n",
    "        dict: A dictionary containing the latest trading data or None if not found.\n",
    "            All values are returned as strings to enforce compliance with UC Funtions.\n",
    "            From their docs: \"For container types like `list`, `tuple` and `dict`,\n",
    "            the inner types **must be specified** and must be uniform (Union types\n",
    "            are not permitted)\".\n",
    "\n",
    "    Example:\n",
    "        >>> get_latest_trade(\"PETR4\")\n",
    "        {\n",
    "            \"date\": \"2025-06-20\"\n",
    "            \"open\": \"32.72999954223633\"\n",
    "            \"high\": \"33.15999984741211\"\n",
    "            \"low\": \"32.630001068115234\"\n",
    "            \"close\": \"32.81999969482422\"\n",
    "            \"volume\": \"84911200.0\"\n",
    "        }\n",
    "    \"\"\"\n",
    "    # From the UC docs (https://docs.unitycatalog.io/ai/client): Import statements\n",
    "    # should be contained within the function body (using local imports) to ensure\n",
    "    # that the dependency is available for use by your function's internal logic.\n",
    "    import yfinance as yf\n",
    "\n",
    "    try:\n",
    "        # Append .SA suffix for B3 stocks\n",
    "        b3_ticker = f\"{ticker.upper()}.SA\"\n",
    "\n",
    "        # Get the stock info\n",
    "        stock = yf.Ticker(b3_ticker)\n",
    "\n",
    "        # Get today's data (or last available trading day)\n",
    "        hist = stock.history(period=\"1d\")\n",
    "\n",
    "        if hist.empty:\n",
    "            return {}\n",
    "\n",
    "        # Get the latest record\n",
    "        latest = hist.iloc[-1]\n",
    "\n",
    "        return {\n",
    "            \"date\": latest.name.strftime(\"%Y-%m-%d\"),\n",
    "            \"open\": str(latest[\"Open\"]),\n",
    "            \"high\": str(latest[\"High\"]),\n",
    "            \"low\": str(latest[\"Low\"]),\n",
    "            \"close\": str(latest[\"Close\"]),\n",
    "            \"volume\": str(latest[\"Volume\"]),\n",
    "        }\n",
    "\n",
    "    except Exception as e:\n",
    "        print(f\"Error fetching data for {ticker}: {str(e)}\")\n",
    "        return {}"
   ]
  },
  {
   "cell_type": "code",
   "execution_count": 0,
   "metadata": {
    "application/vnd.databricks.v1+cell": {
     "cellMetadata": {
      "byteLimit": 2048000,
      "rowLimit": 10000
     },
     "inputWidgets": {},
     "nuid": "b4d0a967-6019-44c3-b0ab-85baf9aa49e0",
     "showTitle": true,
     "tableResultSettingsMap": {},
     "title": "Create the function in Unity Catalog"
    }
   },
   "outputs": [],
   "source": [
    "uc_client = uc_ai.DatabricksFunctionClient()\n",
    "uc_ai.set_uc_function_client(uc_client)\n",
    "\n",
    "# Create the function in the Unity Catalog catalog and schema specified.\n",
    "# When using `.create_python_function`, the provided function's metadata\n",
    "# (docstring, parameters, return type) are used to create a tool in the\n",
    "# specified catalog and schema.\n",
    "function_info = uc_client.create_python_function(\n",
    "  func=get_latest_trade,\n",
    "  catalog=CATALOG,\n",
    "  schema=SCHEMA,\n",
    "  replace=True,  # Set to True to overwrite if the function already exists.\n",
    ")"
   ]
  }
 ],
 "metadata": {
  "application/vnd.databricks.v1+notebook": {
   "computePreferences": null,
   "dashboards": [],
   "environmentMetadata": {
    "base_environment": "",
    "environment_version": "2"
   },
   "inputWidgetPreferences": null,
   "language": "python",
   "notebookMetadata": {
    "mostRecentlyExecutedCommandWithImplicitDF": {
     "commandId": 5447623400970943,
     "dataframes": [
      "_sqldf"
     ]
    },
    "pythonIndentUnit": 4
   },
   "notebookName": "b3-stock-latest-trade-getter",
   "widgets": {}
  },
  "language_info": {
   "name": "python"
  }
 },
 "nbformat": 4,
 "nbformat_minor": 0
}
