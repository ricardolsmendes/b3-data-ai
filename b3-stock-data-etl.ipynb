{
 "cells": [
  {
   "cell_type": "markdown",
   "metadata": {
    "application/vnd.databricks.v1+cell": {
     "cellMetadata": {
      "byteLimit": 2048000,
      "rowLimit": 10000
     },
     "inputWidgets": {},
     "nuid": "867d3ea1-02e2-4c73-8a38-83d5c244b7d2",
     "showTitle": false,
     "tableResultSettingsMap": {},
     "title": ""
    }
   },
   "source": [
    "# B3 Stock Data ETL"
   ]
  },
  {
   "cell_type": "markdown",
   "metadata": {
    "application/vnd.databricks.v1+cell": {
     "cellMetadata": {
      "byteLimit": 2048000,
      "rowLimit": 10000
     },
     "inputWidgets": {},
     "nuid": "5029b85a-2e8a-4782-b9c7-d0a1b29c0398",
     "showTitle": false,
     "tableResultSettingsMap": {},
     "title": ""
    }
   },
   "source": [
    "## Part 1: Get data for a subset of B3 stocks"
   ]
  },
  {
   "cell_type": "code",
   "execution_count": 0,
   "metadata": {
    "application/vnd.databricks.v1+cell": {
     "cellMetadata": {
      "byteLimit": 2048000,
      "rowLimit": 10000
     },
     "inputWidgets": {},
     "nuid": "af98631c-bb97-4ebd-8f36-1e2263a0a179",
     "showTitle": true,
     "tableResultSettingsMap": {},
     "title": "Install the required packages"
    }
   },
   "outputs": [],
   "source": [
    "%sh\n",
    "pip install -q -U pip\n",
    "pip install -q -U -r requirements.txt"
   ]
  },
  {
   "cell_type": "code",
   "execution_count": 0,
   "metadata": {
    "application/vnd.databricks.v1+cell": {
     "cellMetadata": {
      "byteLimit": 2048000,
      "rowLimit": 10000
     },
     "inputWidgets": {},
     "nuid": "e3ca0f02-3d5a-4739-ad7e-f077e6ef1948",
     "showTitle": true,
     "tableResultSettingsMap": {},
     "title": "Import the required modules"
    }
   },
   "outputs": [],
   "source": [
    "from delta import tables\n",
    "import pandas as pd\n",
    "from pyspark.sql import types\n",
    "import yfinance as yf"
   ]
  },
  {
   "cell_type": "code",
   "execution_count": 0,
   "metadata": {
    "application/vnd.databricks.v1+cell": {
     "cellMetadata": {
      "byteLimit": 2048000,
      "rowLimit": 10000
     },
     "inputWidgets": {},
     "nuid": "0125cff9-8df1-4185-8a82-5f4a21a9fb98",
     "showTitle": true,
     "tableResultSettingsMap": {},
     "title": "Define the constants"
    }
   },
   "outputs": [],
   "source": [
    "# Define the tickers.\n",
    "TICKERS = [ticker.strip() for ticker in dbutils.widgets.get(\"tickers\").split(\",\")]\n",
    "\n",
    "# Define columns for price and volume data.\n",
    "PRICES_AND_VOLUME_COLUMNS = [\"Open\", \"High\", \"Low\", \"Close\", \"Volume\"]\n",
    "\n",
    "# Define complete column structure for the final DataFrame.\n",
    "ALL_COLUMNS = [\"Ticker\", \"Date\"]\n",
    "ALL_COLUMNS.extend(PRICES_AND_VOLUME_COLUMNS)\n",
    "\n",
    "# Define the Delta table name.\n",
    "DELTA_TABLE_NAME = dbutils.widgets.get(\"target-table\")"
   ]
  },
  {
   "cell_type": "code",
   "execution_count": 0,
   "metadata": {
    "application/vnd.databricks.v1+cell": {
     "cellMetadata": {
      "byteLimit": 2048000,
      "rowLimit": 10000
     },
     "inputWidgets": {},
     "nuid": "009e7356-df4e-47af-a30d-55f6343774b3",
     "showTitle": true,
     "tableResultSettingsMap": {},
     "title": "Fetch historical market data from Yahoo Finance"
    }
   },
   "outputs": [],
   "source": [
    "# Format tickers to include \".SA\" suffix for Yahoo Finance API.\n",
    "formatted_tickers = [\n",
    "    f\"{ticker}.SA\" if not ticker.endswith(\".SA\") else ticker for ticker in TICKERS\n",
    "]\n",
    "\n",
    "# Fetch historical market data for all tickers from Yahoo Finance.\n",
    "df = yf.download(formatted_tickers, period=\"max\", group_by=\"ticker\")"
   ]
  },
  {
   "cell_type": "code",
   "execution_count": 0,
   "metadata": {
    "application/vnd.databricks.v1+cell": {
     "cellMetadata": {
      "byteLimit": 2048000,
      "rowLimit": 10000
     },
     "inputWidgets": {},
     "nuid": "21a18e05-ce13-41cf-84e1-f80c6bf6340c",
     "showTitle": true,
     "tableResultSettingsMap": {},
     "title": "Combine all ticker data into single DataFrame"
    }
   },
   "outputs": [],
   "source": [
    "# Initialize list to store processed data for each ticker.\n",
    "dfs = []\n",
    "\n",
    "# Process data for each ticker individually.\n",
    "# The resulting DataFrame will contain all tickers' data in a flat table.\n",
    "for ticker in formatted_tickers:\n",
    "    # Create a copy of ticker data to prevent modifications to original DataFrame.\n",
    "    ticker_data = df[ticker].copy()\n",
    "\n",
    "    # Convert date index to column.\n",
    "    ticker_data.reset_index(inplace=True)\n",
    "\n",
    "    # Add ticker identification column (without \".SA\" suffix).\n",
    "    ticker_data[\"Ticker\"] = ticker.replace(\".SA\", \"\")\n",
    "\n",
    "    # Organize columns according to defined structure.\n",
    "    ticker_data = ticker_data[ALL_COLUMNS]\n",
    "\n",
    "    # Store processed ticker data.\n",
    "    dfs.append(ticker_data)\n",
    "\n",
    "all_ticker_data = pd.concat(dfs, ignore_index=True)"
   ]
  },
  {
   "cell_type": "code",
   "execution_count": 0,
   "metadata": {
    "application/vnd.databricks.v1+cell": {
     "cellMetadata": {
      "byteLimit": 2048000,
      "rowLimit": 10000
     },
     "inputWidgets": {},
     "nuid": "f2124a50-2852-4c5d-a9cd-924c2a66ee36",
     "showTitle": true,
     "tableResultSettingsMap": {},
     "title": "Clean up processed ticker data"
    }
   },
   "outputs": [],
   "source": [
    "# Clean data by removing rows with missing values.\n",
    "all_ticker_data.dropna(subset=PRICES_AND_VOLUME_COLUMNS, inplace=True)\n",
    "\n",
    "# Clean axis 1's name.\n",
    "all_ticker_data.rename_axis(None, axis=1, inplace=True)\n",
    "\n",
    "# Reset the DataFrame index.\n",
    "all_ticker_data.reset_index(drop=True, inplace=True)"
   ]
  },
  {
   "cell_type": "markdown",
   "metadata": {
    "application/vnd.databricks.v1+cell": {
     "cellMetadata": {
      "byteLimit": 2048000,
      "rowLimit": 10000
     },
     "inputWidgets": {},
     "nuid": "1fa451ea-fb10-439f-8075-c9a31ab0ec1d",
     "showTitle": false,
     "tableResultSettingsMap": {},
     "title": ""
    }
   },
   "source": [
    "## Part 2: Persist records into the lakehouse"
   ]
  },
  {
   "cell_type": "code",
   "execution_count": 0,
   "metadata": {
    "application/vnd.databricks.v1+cell": {
     "cellMetadata": {
      "byteLimit": 2048000,
      "rowLimit": 10000
     },
     "inputWidgets": {},
     "nuid": "9004b75c-64fd-4db6-a845-ab2981465d68",
     "showTitle": true,
     "tableResultSettingsMap": {},
     "title": "Convert pandas dataframe to Spark"
    }
   },
   "outputs": [],
   "source": [
    "# Define a schema with column names and types for the temporary Spark DataFrame.\n",
    "tmp_df_schema = types.StructType(\n",
    "    [\n",
    "        types.StructField(\"ticker\", types.StringType()),\n",
    "        types.StructField(\"date\", types.DateType()),\n",
    "        types.StructField(\"open\", types.DoubleType()),\n",
    "        types.StructField(\"high\", types.DoubleType()),\n",
    "        types.StructField(\"low\", types.DoubleType()),\n",
    "        types.StructField(\"close\", types.DoubleType()),\n",
    "        types.StructField(\"volume\", types.DoubleType()),\n",
    "    ]\n",
    ")\n",
    "\n",
    "spark_df = spark.createDataFrame(all_ticker_data, schema=tmp_df_schema)"
   ]
  },
  {
   "cell_type": "code",
   "execution_count": 0,
   "metadata": {
    "application/vnd.databricks.v1+cell": {
     "cellMetadata": {
      "byteLimit": 2048000,
      "rowLimit": 10000
     },
     "inputWidgets": {},
     "nuid": "0f1ac627-e688-40b9-be87-66736143f655",
     "showTitle": true,
     "tableResultSettingsMap": {},
     "title": "Create the Delta table with the specified schema"
    }
   },
   "outputs": [],
   "source": [
    "# Define the target table schema with column names and types.\n",
    "table_schema = types.StructType(\n",
    "    [\n",
    "        types.StructField(\"ticker\", types.StringType()),\n",
    "        types.StructField(\"date\", types.DateType()),\n",
    "        types.StructField(\"open\", types.DecimalType(10, 3)),\n",
    "        types.StructField(\"high\", types.DecimalType(10, 3)),\n",
    "        types.StructField(\"low\", types.DecimalType(10, 3)),\n",
    "        types.StructField(\"close\", types.DecimalType(10, 3)),\n",
    "        types.StructField(\"volume\", types.DecimalType(18, 3)),\n",
    "    ]\n",
    ")\n",
    "\n",
    "spark.createDataFrame([], table_schema)\\\n",
    "    .write\\\n",
    "    .format(\"delta\")\\\n",
    "    .mode(\"ignore\")\\\n",
    "    .option(\"overwriteSchema\", \"true\"\n",
    ").saveAsTable(DELTA_TABLE_NAME)"
   ]
  },
  {
   "cell_type": "code",
   "execution_count": 0,
   "metadata": {
    "application/vnd.databricks.v1+cell": {
     "cellMetadata": {
      "byteLimit": 2048000,
      "rowLimit": 10000
     },
     "inputWidgets": {},
     "nuid": "c8239ed6-6412-40fe-9cc3-1e977f88b368",
     "showTitle": true,
     "tableResultSettingsMap": {},
     "title": "Merge the Spark DataFrame into the Delta table"
    }
   },
   "outputs": [],
   "source": [
    "# Load the Delta table.\n",
    "delta_table = tables.DeltaTable.forName(spark, DELTA_TABLE_NAME)\n",
    "\n",
    "# Perform the merge.\n",
    "delta_table.alias(\"t\").merge(\n",
    "    spark_df.alias(\"s\"),\n",
    "    \"t.ticker = s.ticker AND t.date = s.date\"\n",
    ").whenMatchedUpdateAll()\\\n",
    "    .whenNotMatchedInsertAll()\\\n",
    "    .execute()"
   ]
  }
 ],
 "metadata": {
  "application/vnd.databricks.v1+notebook": {
   "computePreferences": null,
   "dashboards": [],
   "environmentMetadata": {
    "base_environment": "",
    "environment_version": "2"
   },
   "inputWidgetPreferences": null,
   "language": "python",
   "notebookMetadata": {
    "mostRecentlyExecutedCommandWithImplicitDF": {
     "commandId": 5609263209028565,
     "dataframes": [
      "_sqldf"
     ]
    },
    "pythonIndentUnit": 4
   },
   "notebookName": "b3-stock-data-etl",
   "widgets": {}
  },
  "language_info": {
   "name": "python"
  }
 },
 "nbformat": 4,
 "nbformat_minor": 0
}
